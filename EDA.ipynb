{
 "cells": [
  {
   "cell_type": "code",
   "execution_count": 107,
   "metadata": {},
   "outputs": [],
   "source": [
    "import pandas as pd\n",
    "import plotly.express as px\n",
    "from datetime import datetime\n",
    "import numpy as np\n",
    "\n",
    "car_data = pd.read_csv(\"https://practicum-content.s3.us-west-1.amazonaws.com/new-markets/Data_sprint_4_Refactored/vehicles_us.csv\")\n",
    "# # fig = px.scatter(car_data,x=\"odometer\",y=\"price\")\n",
    "# fig = px.box(car_data,x=\"price\")\n",
    "# fig\n",
    "\n"
   ]
  },
  {
   "cell_type": "code",
   "execution_count": 108,
   "metadata": {},
   "outputs": [],
   "source": [
    "# car_data.info()\n",
    "car_data= car_data.dropna(subset=\"model_year\")\n",
    "car_data[\"date_posted\"] = pd.to_datetime(car_data[\"date_posted\"])\n",
    "car_data = car_data.dropna(subset=\"model_year\")\n"
   ]
  },
  {
   "cell_type": "code",
   "execution_count": 109,
   "metadata": {},
   "outputs": [
    {
     "name": "stdout",
     "output_type": "stream",
     "text": [
      "<class 'pandas.core.frame.DataFrame'>\n",
      "Index: 47906 entries, 0 to 51524\n",
      "Data columns (total 13 columns):\n",
      " #   Column        Non-Null Count  Dtype         \n",
      "---  ------        --------------  -----         \n",
      " 0   price         47906 non-null  int64         \n",
      " 1   model_year    47906 non-null  int32         \n",
      " 2   model         47906 non-null  object        \n",
      " 3   condition     47906 non-null  object        \n",
      " 4   cylinders     43009 non-null  float64       \n",
      " 5   fuel          47906 non-null  object        \n",
      " 6   odometer      40563 non-null  float64       \n",
      " 7   transmission  47906 non-null  object        \n",
      " 8   type          47906 non-null  object        \n",
      " 9   paint_color   39291 non-null  object        \n",
      " 10  is_4wd        23764 non-null  float64       \n",
      " 11  date_posted   47906 non-null  datetime64[ns]\n",
      " 12  days_listed   47906 non-null  int64         \n",
      "dtypes: datetime64[ns](1), float64(3), int32(1), int64(2), object(6)\n",
      "memory usage: 4.9+ MB\n"
     ]
    }
   ],
   "source": [
    "car_data[\"model_year\"] = car_data[\"model_year\"].astype(int)\n",
    "car_data.info()"
   ]
  },
  {
   "cell_type": "code",
   "execution_count": 110,
   "metadata": {},
   "outputs": [],
   "source": [
    "models = car_data[\"model\"].unique()\n",
    "model_year = car_data[\"model_year\"].unique()\n",
    "type_car = car_data[\"type\"].unique()\n",
    "fuel = car_data[\"fuel\"].unique()\n",
    "cylinders = car_data[\"cylinders\"].unique()\n",
    "\n",
    "\n"
   ]
  },
  {
   "cell_type": "code",
   "execution_count": 118,
   "metadata": {},
   "outputs": [
    {
     "data": {
      "text/plain": [
       "[2019,\n",
       " 2018,\n",
       " 2017,\n",
       " 2016,\n",
       " 2015,\n",
       " 2014,\n",
       " 2013,\n",
       " 2012,\n",
       " 2011,\n",
       " 2010,\n",
       " 2009,\n",
       " 2008,\n",
       " 2007,\n",
       " 2006,\n",
       " 2005,\n",
       " 2004,\n",
       " 2003,\n",
       " 2002,\n",
       " 2001,\n",
       " 2000,\n",
       " 1999,\n",
       " 1998,\n",
       " 1997,\n",
       " 1996,\n",
       " 1995,\n",
       " 1994,\n",
       " 1993,\n",
       " 1992,\n",
       " 1991,\n",
       " 1990,\n",
       " 1989,\n",
       " 1988,\n",
       " 1987,\n",
       " 1986,\n",
       " 1985,\n",
       " 1984,\n",
       " 1983,\n",
       " 1982,\n",
       " 1981,\n",
       " 1980,\n",
       " 1979,\n",
       " 1978,\n",
       " 1977,\n",
       " 1976,\n",
       " 1975,\n",
       " 1974,\n",
       " 1973,\n",
       " 1972,\n",
       " 1971,\n",
       " 1970,\n",
       " 1969,\n",
       " 1968,\n",
       " 1967,\n",
       " 1966,\n",
       " 1965,\n",
       " 1964,\n",
       " 1963,\n",
       " 1962,\n",
       " 1961,\n",
       " 1960,\n",
       " 1958,\n",
       " 1955,\n",
       " 1954,\n",
       " 1949,\n",
       " 1948,\n",
       " 1936,\n",
       " 1929,\n",
       " 1908]"
      ]
     },
     "execution_count": 118,
     "metadata": {},
     "output_type": "execute_result"
    }
   ],
   "source": [
    "model_year = car_data[\"model_year\"].unique().tolist()\n",
    "sorted(model_year,reverse=True)\n"
   ]
  },
  {
   "cell_type": "code",
   "execution_count": null,
   "metadata": {},
   "outputs": [],
   "source": []
  }
 ],
 "metadata": {
  "kernelspec": {
   "display_name": ".venv",
   "language": "python",
   "name": "python3"
  },
  "language_info": {
   "codemirror_mode": {
    "name": "ipython",
    "version": 3
   },
   "file_extension": ".py",
   "mimetype": "text/x-python",
   "name": "python",
   "nbconvert_exporter": "python",
   "pygments_lexer": "ipython3",
   "version": "3.12.0"
  }
 },
 "nbformat": 4,
 "nbformat_minor": 2
}
